{
  "nbformat": 4,
  "nbformat_minor": 0,
  "metadata": {
    "colab": {
      "name": "NLPTaskC.ipynb",
      "version": "0.3.2",
      "provenance": [],
      "collapsed_sections": []
    },
    "kernelspec": {
      "name": "python3",
      "display_name": "Python 3"
    },
    "accelerator": "GPU"
  },
  "cells": [
    {
      "metadata": {
        "id": "vobErDOkAI2X",
        "colab_type": "text"
      },
      "cell_type": "markdown",
      "source": [
        "Install packages"
      ]
    },
    {
      "metadata": {
        "id": "e_cQQHccAI2g",
        "colab_type": "code",
        "outputId": "b69f9975-ac6e-44fd-f40d-63dd1e80370d",
        "colab": {
          "base_uri": "https://localhost:8080/",
          "height": 35
        }
      },
      "cell_type": "code",
      "source": [
        "!pip install torch"
      ],
      "execution_count": 0,
      "outputs": [
        {
          "output_type": "stream",
          "text": [
            "Requirement already satisfied: torch in /usr/local/lib/python3.6/dist-packages (1.0.1.post2)\n"
          ],
          "name": "stdout"
        }
      ]
    },
    {
      "metadata": {
        "id": "cKOrZ0o3AI24",
        "colab_type": "code",
        "colab": {}
      },
      "cell_type": "code",
      "source": [
        "import torch\n",
        "import torch.nn as nn\n",
        "import torch.optim as optim\n",
        "import torch.nn.functional as F\n",
        "import csv\n",
        "import re\n",
        "from google.colab import files\n",
        "import numpy as np\n",
        "from random import shuffle, choice, seed\n",
        "from gensim.models import Word2Vec\n",
        "from gensim.models.doc2vec import Doc2Vec, TaggedDocument\n",
        "from sklearn.metrics import confusion_matrix, accuracy_score, f1_score\n",
        "import matplotlib.pyplot as plt                                                 "
      ],
      "execution_count": 0,
      "outputs": []
    },
    {
      "metadata": {
        "id": "ZREqwxKd-y79",
        "colab_type": "code",
        "outputId": "d2bda9a8-c1b2-40e5-dec3-0c0906569de0",
        "colab": {
          "resources": {
            "http://localhost:8080/nbextensions/google.colab/files.js": {
              "data": "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",
              "ok": true,
              "headers": [
                [
                  "content-type",
                  "application/javascript"
                ]
              ],
              "status": 200,
              "status_text": "OK"
            }
          },
          "base_uri": "https://localhost:8080/",
          "height": 83
        }
      },
      "cell_type": "code",
      "source": [
        "uploaded = files.upload()\n",
        "#data = uploaded['offenseval-training-v1.tsv']"
      ],
      "execution_count": 0,
      "outputs": [
        {
          "output_type": "display_data",
          "data": {
            "text/html": [
              "\n",
              "     <input type=\"file\" id=\"files-0f0c275f-ae32-4414-85a8-c8dc1cd5bac0\" name=\"files[]\" multiple disabled />\n",
              "     <output id=\"result-0f0c275f-ae32-4414-85a8-c8dc1cd5bac0\">\n",
              "      Upload widget is only available when the cell has been executed in the\n",
              "      current browser session. Please rerun this cell to enable.\n",
              "      </output>\n",
              "      <script src=\"/nbextensions/google.colab/files.js\"></script> "
            ],
            "text/plain": [
              "<IPython.core.display.HTML object>"
            ]
          },
          "metadata": {
            "tags": []
          }
        },
        {
          "output_type": "stream",
          "text": [
            "Saving test_set_taskc.tsv to test_set_taskc.tsv\n"
          ],
          "name": "stdout"
        }
      ]
    },
    {
      "metadata": {
        "id": "Y2azV7c-at2G",
        "colab_type": "code",
        "colab": {}
      },
      "cell_type": "code",
      "source": [
        "torch.manual_seed(3521536)\n",
        "seed(35215369)"
      ],
      "execution_count": 0,
      "outputs": []
    },
    {
      "metadata": {
        "id": "CRT7487xJLIu",
        "colab_type": "code",
        "colab": {}
      },
      "cell_type": "code",
      "source": [
        "class FeedForwardNet(nn.Module):\n",
        "\n",
        "    def __init__(self, input_size, output_size, hidden_layer1, hidden_layer2, hidden_layer3):\n",
        "        super(FeedForwardNet, self).__init__()\n",
        "        \n",
        "        self.layer1 = nn.Linear(input_size, hidden_layer1)\n",
        "        self.layer1.weight.data.normal_(0,0.1)\n",
        "        self.layer2 = nn.Linear(hidden_layer1, hidden_layer2)\n",
        "        self.layer2.weight.data.normal_(0,0.1)\n",
        "        self.layer3 = nn.Linear(hidden_layer2, hidden_layer3)\n",
        "        self.layer3.weight.data.normal_(0,0.1)\n",
        "        self.layer4 = nn.Linear(hidden_layer3, output_size)\n",
        "        self.layer4.weight.data.normal_(0,0.1)\n",
        "\n",
        "        self.dropout = nn.Dropout(0.5)\n",
        "        \n",
        "    def forward(self, x):\n",
        "        x = self.layer1(x)\n",
        "        x = F.relu(x)\n",
        "        x = self.layer2(x)\n",
        "        x = F.relu(x)\n",
        "        x = self.layer3(x)\n",
        "        x = F.relu(x)\n",
        "        x = self.layer4(x)\n",
        "        return F.log_softmax(x, dim=0)\n",
        "      \n",
        "    def l1_regularizer(self):\n",
        "        l1 = self.layer1.weight.sum() + self.layer1.bias.sum()\n",
        "        l2 = self.layer2.weight.sum() + self.layer2.bias.sum()\n",
        "        l3 = self.layer3.weight.sum() + self.layer3.bias.sum()\n",
        "        l4 = self.layer4.weight.sum() + self.layer4.bias.sum()\n",
        "        return l1+l2+l3+l4\n",
        "        \n",
        "def train_model(model, inputs, targets, optimizer, num_epochs, batch_size):\n",
        "    for epoch in range(num_epochs):\n",
        "        print(\"EPOCH {0}\".format(epoch))\n",
        "        for i in range(0, len(inputs), batch_size):\n",
        "            optimizer.zero_grad()\n",
        "            \n",
        "            out = model(inputs[i:i+batch_size])\n",
        "            loss = F.nll_loss(out, targets[i:i+batch_size])\n",
        "        \n",
        "            loss.backward()\n",
        "            optimizer.step()\n",
        "\n",
        "\n",
        "def eval_model(model, inputs, targets):\n",
        "    with torch.no_grad():\n",
        "        out = model(inputs)\n",
        "        pred = out.argmax(dim=1)\n",
        "    \n",
        "    acc = accuracy_score(targets, pred)\n",
        "    f1 = f1_score(targets, pred, average = 'macro') \n",
        "    print(\"Accuracy:\")\n",
        "    print(acc)\n",
        "    print(\"F1:\")\n",
        "    print(f1)\n",
        "    cm = confusion_matrix(targets, pred)\n",
        "    plt.clf()\n",
        "    plt.imshow(cm, interpolation='nearest', cmap=plt.cm.Wistia)\n",
        "    classNames = ['IND','GRP','OTH']\n",
        "    tick_marks = np.arange(len(classNames))\n",
        "    plt.xticks(tick_marks, classNames)\n",
        "    plt.yticks(tick_marks, classNames)\n",
        "    plt.title('Target Classification Confusion Matrix')\n",
        "    plt.ylabel('True label')\n",
        "    plt.xlabel('Predicted label')\n",
        "    for i in range(3):\n",
        "       for j in range(3):\n",
        "           plt.text(j, i, str(cm[i][j]))\n",
        "    plt.show()\n",
        "\n"
      ],
      "execution_count": 0,
      "outputs": []
    },
    {
      "metadata": {
        "id": "_B5f1TvtALhZ",
        "colab_type": "code",
        "colab": {}
      },
      "cell_type": "code",
      "source": [
        "def case_normalization(msg):\n",
        "    return msg.strip().lower()\n",
        "\n",
        "def remove_delimiters(msg):\n",
        "    #stopwords = set(nltk.corpus.stopwords.words('english'))\n",
        "    #filter_func = lambda word : word not in stopwords\n",
        "    filter_func = None\n",
        "    return filter(filter_func, re.split('[ ,.!]', msg))\n",
        "\n",
        "def pre_process_msg(msg):\n",
        "    return remove_delimiters(case_normalization(msg))\n",
        "\n",
        "def load_training_data(path):\n",
        "    IND = [] \n",
        "    GRP = [] \n",
        "    OTH = [] \n",
        "    with open(path, 'r') as tsv:\n",
        "        in_file = csv.reader(tsv, delimiter='\\t')\n",
        "        next(in_file)\n",
        "        for row in in_file:\n",
        "            label = row[4]\n",
        "            \n",
        "            if label == 'IND':\n",
        "                IND.append(row[1])\n",
        "            elif label == 'GRP':\n",
        "                GRP.append(row[1])\n",
        "            elif label == 'OTH':\n",
        "                OTH.append(row[1])\n",
        "\n",
        "    print('Training data balance - IND: {0}, GRP: {1}, OTH: {2}'.format(len(IND), len(GRP), len(OTH))) \n",
        "    return IND, GRP, OTH\n",
        "  \n",
        "def load_test_data(path):\n",
        "    inputs = []\n",
        "    IDs = []\n",
        "    with open(path, 'r') as tsv:\n",
        "        in_file = csv.reader(tsv, delimiter='\\t')\n",
        "        next(in_file)\n",
        "        for row in in_file:\n",
        "            IDs.append(row[0])\n",
        "            inputs.append(row[1])\n",
        "\n",
        "    return IDs, inputs  \n",
        "\n",
        "def preprocess(ind, grp, oth, rebal=False):\n",
        "    # balancing data sets by duplicating the smaller groups\n",
        "    largest = max(len(ind), len(grp), len(oth))\n",
        "    if rebal:\n",
        "        ind = ind + [choice(ind) for i in range(largest - len(ind))]\n",
        "        grp = grp + [choice(grp) for i in range(largest - len(grp))]\n",
        "        oth = oth + [choice(oth) for i in range(largest - len(oth))]\n",
        "\n",
        "    labels = [0] * len(ind) + [1] * len(grp) + [2] * len(oth)\n",
        "    data = list(zip(ind + grp + oth, labels))\n",
        "    shuffle(data)\n",
        "    text, labels = map(list, zip(*data))\n",
        "    text = [' '.join(list(pre_process_msg(t))) for t in text]\n",
        "    #for i in range(len(text)):\n",
        "    #    text[i] = text[i].strip().lower()\n",
        "\n",
        "    return text, labels\n",
        "\n",
        "# text as list of sentences ['i am a cat']\n",
        "def vectorize_train(text, vector_size=10, window_size=2, epochs=5):\n",
        "    docs = [TaggedDocument(t, [i]) for i, t in enumerate(text)]\n",
        "    model = Doc2Vec(docs, min_count=1, vector_size=vector_size, window=window_size, epochs=epochs)\n",
        "    model.delete_temporary_training_data(keep_doctags_vectors=True, keep_inference=True)\n",
        "    return model, [model.infer_vector(t.split()) for t in text]\n",
        "\n",
        "def vectorize_eval(model, text):\n",
        "    return [model.infer_vector(t.split()) for t in text]\n",
        "\n"
      ],
      "execution_count": 0,
      "outputs": []
    },
    {
      "metadata": {
        "id": "BUwVUf1r9C9K",
        "colab_type": "code",
        "outputId": "97205320-df72-4f5d-a41d-edaa0f89bbc1",
        "colab": {
          "base_uri": "https://localhost:8080/",
          "height": 637
        }
      },
      "cell_type": "code",
      "source": [
        "\n",
        "if __name__ == '__main__':\n",
        "    sentence_vector_size = 500\n",
        "    data = load_training_data('offenseval-training-v1.tsv')\n",
        "    text, targets = preprocess(*data, rebal=False)\n",
        "    word_model, inputs = vectorize_train(text, sentence_vector_size)\n",
        "    net = FeedForwardNet(sentence_vector_size, 3, 200, 100, 50)\n",
        "    train_model(net, torch.Tensor(inputs), torch.Tensor(targets).long(), \n",
        "                          optim.Adam(net.parameters(), lr=0.01),\n",
        "                          10, 19)\n",
        "\n",
        "    test_ids, test_text = load_test_data('test_set_taskc.tsv')\n",
        "    \n",
        "    test_inputs = vectorize_eval(word_model, test_text)\n",
        "    test_outputs = [net(torch.Tensor(v)) for v in test_inputs]\n",
        "\n",
        "    with open('output.csv', 'w') as tsv:\n",
        "        out_file = csv.writer(tsv, delimiter=',')\n",
        "        for i in range(len(test_outputs)):\n",
        "            index = test_outputs[i].argmax(dim=0)\n",
        "            if index == 0:\n",
        "                out = 'IND'\n",
        "            elif index == 1:\n",
        "                out = 'GRP'\n",
        "            elif index == 2:\n",
        "                out = 'OTH'\n",
        "\n",
        "            out_file.writerow([test_ids[i], out])\n",
        "\n",
        "    eval_text, eval_targets = preprocess(*data)\n",
        "    eval_inputs = vectorize_eval(word_model, eval_text)\n",
        "    eval_model(net, torch.Tensor(eval_inputs), torch.Tensor(eval_targets).long())\n",
        "\n",
        "\n"
      ],
      "execution_count": 0,
      "outputs": [
        {
          "output_type": "stream",
          "text": [
            "Training data balance - IND: 2407, GRP: 1074, OTH: 395\n",
            "EPOCH 0\n",
            "EPOCH 1\n",
            "EPOCH 2\n",
            "EPOCH 3\n",
            "EPOCH 4\n",
            "EPOCH 5\n",
            "EPOCH 6\n",
            "EPOCH 7\n",
            "EPOCH 8\n",
            "EPOCH 9\n",
            "Accuracy:\n",
            "0.5301857585139319\n",
            "F1:\n",
            "0.4162274156489198\n"
          ],
          "name": "stdout"
        },
        {
          "output_type": "display_data",
          "data": {
            "image/png": "[encoded data removed]",
            "text/plain": [
              "<Figure size 576x396 with 1 Axes>"
            ]
          },
          "metadata": {
            "tags": []
          }
        }
      ]
    }
  ]
}